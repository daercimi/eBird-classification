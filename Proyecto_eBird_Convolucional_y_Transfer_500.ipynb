{
  "cells": [
    {
      "cell_type": "markdown",
      "metadata": {
        "id": "i2k2Lt736xaQ"
      },
      "source": [
        "### Librerías y Dataset"
      ]
    },
    {
      "cell_type": "code",
      "execution_count": null,
      "metadata": {
        "id": "OtTgTnbH6ZkI"
      },
      "outputs": [],
      "source": [
        "import pandas as pd\n",
        "import numpy as np\n",
        "import matplotlib.pyplot as plt\n",
        "import cv2\n",
        "import io\n",
        "\n",
        "from google.colab.patches import cv2_imshow\n",
        "import urllib.request\n",
        "import time\n",
        "\n",
        "from google.colab import files\n",
        "from scipy import stats\n",
        "import tensorflow as tf"
      ]
    },
    {
      "cell_type": "markdown",
      "metadata": {
        "id": "CVANzl0EY2jC"
      },
      "source": [
        "Importación de datos, extraído de EBird: https://ebird.org/explore"
      ]
    },
    {
      "cell_type": "code",
      "execution_count": null,
      "metadata": {
        "colab": {
          "base_uri": "https://localhost:8080/",
          "height": 73,
          "resources": {
            "http://localhost:8080/nbextensions/google.colab/files.js": {
              "data": "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",
              "headers": [
                [
                  "content-type",
                  "application/javascript"
                ]
              ],
              "ok": true,
              "status": 200,
              "status_text": ""
            }
          }
        },
        "id": "9CooNa5F6sAO",
        "outputId": "a6c2f0b9-6074-4b38-a7c5-a56c1a82ea0a"
      },
      "outputs": [],
      "source": [
        "uploaded = files.upload()"
      ]
    },
    {
      "cell_type": "code",
      "execution_count": null,
      "metadata": {
        "id": "E8EZWmEn6uLO"
      },
      "outputs": [],
      "source": [
        "df2 = pd.read_csv(io.BytesIO(uploaded['raw_data.csv']))"
      ]
    },
    {
      "cell_type": "markdown",
      "metadata": {
        "id": "dIQx50l46-Vm"
      },
      "source": [
        "### Análisis de la Data"
      ]
    },
    {
      "cell_type": "code",
      "execution_count": null,
      "metadata": {
        "colab": {
          "base_uri": "https://localhost:8080/"
        },
        "id": "1Rlmhg7G699m",
        "outputId": "e8caa4ec-aad3-464c-d987-e5a83ece3152"
      },
      "outputs": [],
      "source": [
        "#Se observan las columnas con información general como el tipo de dato\n",
        "df2.info()"
      ]
    },
    {
      "cell_type": "code",
      "execution_count": null,
      "metadata": {
        "colab": {
          "base_uri": "https://localhost:8080/"
        },
        "id": "XL2xg60u7ICm",
        "outputId": "a3ff18a7-2393-4673-8e27-25667ada430c"
      },
      "outputs": [],
      "source": [
        "#Se realiza un conteo de cada celda\n",
        "df2.count()"
      ]
    },
    {
      "cell_type": "code",
      "execution_count": null,
      "metadata": {
        "colab": {
          "base_uri": "https://localhost:8080/"
        },
        "id": "3jQviJTM7NyO",
        "outputId": "be4c3b1f-ca59-414b-d34d-046a2f1f80e0"
      },
      "outputs": [],
      "source": [
        "#Número total de especies en la data\n",
        "len(df2['Scientific Name'].unique())"
      ]
    },
    {
      "cell_type": "code",
      "execution_count": null,
      "metadata": {
        "colab": {
          "base_uri": "https://localhost:8080/",
          "height": 0
        },
        "id": "0BLk-kpU7Qyu",
        "outputId": "90974882-9972-45a8-ad6b-99650be152eb"
      },
      "outputs": [],
      "source": [
        "#Número de fotografías por especie\n",
        "df2.groupby(['Scientific Name']).count()"
      ]
    },
    {
      "cell_type": "markdown",
      "metadata": {
        "id": "qnHSnt4N7VyW"
      },
      "source": [
        "Conclusión del análisis:\n",
        " * Existen 10000 registros\n",
        " * Existen 1483 especies registradas"
      ]
    },
    {
      "cell_type": "markdown",
      "metadata": {
        "id": "7gT_vWEr7YtG"
      },
      "source": [
        "###Distribución de Registro de Especies"
      ]
    },
    {
      "cell_type": "code",
      "execution_count": null,
      "metadata": {
        "id": "g2wrno4dre5-"
      },
      "outputs": [],
      "source": [
        "#número mínimo de registros a estudiar\n",
        "min_registros = 500"
      ]
    },
    {
      "cell_type": "code",
      "execution_count": null,
      "metadata": {
        "colab": {
          "base_uri": "https://localhost:8080/"
        },
        "id": "b-X81XIu7SeV",
        "outputId": "7ecf2396-0a7a-44c7-fba9-72f9115f235a"
      },
      "outputs": [],
      "source": [
        "#Se agrupa y ordenan las especies de forma descendente observando la cantidad de existencias por especie\n",
        "species_sorted_desc = df2.groupby(['Scientific Name']).count()['ML Catalog Number'].sort_values(ascending=False)\n",
        "species_sorted_desc"
      ]
    },
    {
      "cell_type": "code",
      "execution_count": null,
      "metadata": {
        "colab": {
          "base_uri": "https://localhost:8080/"
        },
        "id": "jIg_ldBw7lZ2",
        "outputId": "2b737824-262d-4816-cb39-19b017d67230"
      },
      "outputs": [],
      "source": [
        "species_sorted_desc.value_counts()"
      ]
    },
    {
      "cell_type": "code",
      "execution_count": null,
      "metadata": {
        "colab": {
          "base_uri": "https://localhost:8080/",
          "height": 296
        },
        "id": "I3_UBRyE7sGl",
        "outputId": "a500c905-0763-45d2-9f57-bcb0fb11d5a6"
      },
      "outputs": [],
      "source": [
        "#Gráfico de registros por especie\n",
        "x=species_sorted_desc.value_counts().index.values\n",
        "y=species_sorted_desc.value_counts().values\n",
        "plt.xlabel('Cantidad de registros')\n",
        "plt.ylabel('Cantidad de especies')\n",
        "plt.bar(x,y,color='maroon',width=1)"
      ]
    },
    {
      "cell_type": "code",
      "execution_count": null,
      "metadata": {
        "colab": {
          "base_uri": "https://localhost:8080/"
        },
        "id": "cHw2Ajit7t9t",
        "outputId": "858909c2-5840-47af-fa2b-6578fed5f387"
      },
      "outputs": [],
      "source": [
        "# Se eliminan las especies con pocos registros hasta que \n",
        "# el número total de registros sea aproximadamente 5000\n",
        "def get_index_drop():\n",
        "  sum = 0\n",
        "  for index, value in species_sorted_desc.iteritems():\n",
        "    sum += value\n",
        "    if (sum >= min_registros):\n",
        "      return (index, value)\n",
        "\n",
        "get_index_drop()\n",
        "#Se muestra el último espécimen eliminado y su número de registros."
      ]
    },
    {
      "cell_type": "code",
      "execution_count": null,
      "metadata": {
        "id": "1pLHJVYV74Od"
      },
      "outputs": [],
      "source": [
        "species_to_drop = species_sorted_desc[species_sorted_desc.iloc[:] < get_index_drop()[1]].index"
      ]
    },
    {
      "cell_type": "code",
      "execution_count": null,
      "metadata": {
        "colab": {
          "base_uri": "https://localhost:8080/",
          "height": 696
        },
        "id": "SrGdOWKD78D2",
        "outputId": "70d62b32-3e0c-4c20-8c84-da6e433da961"
      },
      "outputs": [],
      "source": [
        "# Eliminando en el Dataframe\n",
        "df_final = df2[~df2['Scientific Name'].isin(species_to_drop.to_list())]\n",
        "df_final"
      ]
    },
    {
      "cell_type": "code",
      "execution_count": null,
      "metadata": {
        "colab": {
          "base_uri": "https://localhost:8080/"
        },
        "id": "q10ljof08ARW",
        "outputId": "2e303708-25c0-4f51-e987-86cb790321e9"
      },
      "outputs": [],
      "source": [
        "num_clases = len(df_final['Scientific Name'].unique())\n",
        "num_clases\n",
        "# Número de clases "
      ]
    },
    {
      "cell_type": "markdown",
      "metadata": {
        "id": "2xUayuoX8u4e"
      },
      "source": [
        "### Carga de Imágenes"
      ]
    },
    {
      "cell_type": "code",
      "execution_count": null,
      "metadata": {
        "id": "RFhD0O6v8J99"
      },
      "outputs": [],
      "source": [
        "# Funciones de utilidad\n",
        "def get_url_image(id):\n",
        "  return f'https://cdn.download.ams.birds.cornell.edu/api/v1/asset/{id}/1200'\n",
        "\n",
        "def get_list_of_url_by_id(df,title):\n",
        "  list_url=[]\n",
        "  for id in df[title]:\n",
        "    list_url.append(get_url_image(id))\n",
        "  return list_url\n",
        "\n",
        "def save_image(link, new_name):\n",
        "  urllib.request.urlretrieve(link, new_name)"
      ]
    },
    {
      "cell_type": "code",
      "execution_count": null,
      "metadata": {
        "id": "FC_as9uC8089"
      },
      "outputs": [],
      "source": [
        "# Añadimos una columna que hace referencia al link de cada imagen\n",
        "url = get_list_of_url_by_id(df_final, 'ML Catalog Number')\n",
        "df_final = df_final.assign(ImageURL=url)"
      ]
    },
    {
      "cell_type": "code",
      "execution_count": null,
      "metadata": {
        "colab": {
          "base_uri": "https://localhost:8080/",
          "height": 421
        },
        "id": "t8c7DqTV83td",
        "outputId": "57168dbe-0e90-420c-b67e-72f7cf1bd162"
      },
      "outputs": [],
      "source": [
        "#Se muestra la información junto a la columna agregada\n",
        "df_final.head()"
      ]
    },
    {
      "cell_type": "code",
      "execution_count": null,
      "metadata": {
        "colab": {
          "base_uri": "https://localhost:8080/"
        },
        "id": "EdkG-sI09dKO",
        "outputId": "4da69ee7-9b59-4268-a514-03a61a59aea3"
      },
      "outputs": [],
      "source": [
        "#Se crea un dataFrame con las imagenes correspondientes y ordenamos\n",
        "df_images = {'Image': [], 'Scientific Name': []}\n",
        "for i in range(len(df_final)):\n",
        "  print(i)\n",
        "  image_name_aux = f'{df_final.iloc[i][\"ML Catalog Number\"]}.jpg'\n",
        "  save_image(df_final.iloc[i]['ImageURL'], image_name_aux)\n",
        "  df_images['Image'].append(image_name_aux)\n",
        "  df_images['Scientific Name'].append(df_final.iloc[i]['Scientific Name'])\n",
        "df_images = pd.DataFrame(data=df_images)"
      ]
    },
    {
      "cell_type": "code",
      "execution_count": null,
      "metadata": {
        "colab": {
          "base_uri": "https://localhost:8080/",
          "height": 206
        },
        "id": "SQLNE5VyBj35",
        "outputId": "8cd6012e-1aba-46b6-a7be-7db8c59e25e4"
      },
      "outputs": [],
      "source": [
        "df_images.head()\n"
      ]
    },
    {
      "cell_type": "markdown",
      "metadata": {
        "id": "ApLqZ8Nt7cEm"
      },
      "source": [
        "### Ordenamiento de carpetas\n",
        "Orden de carpetas para la mejor distribución entre entrenamiento, validación y test."
      ]
    },
    {
      "cell_type": "code",
      "execution_count": null,
      "metadata": {
        "id": "6Ll7fnIw6av1"
      },
      "outputs": [],
      "source": [
        "import os\n",
        "import shutil"
      ]
    },
    {
      "cell_type": "code",
      "execution_count": null,
      "metadata": {
        "colab": {
          "base_uri": "https://localhost:8080/"
        },
        "id": "HqULdSp8ou0O",
        "outputId": "3d13f5f9-8b79-47d7-8d2b-46d3dab85e70"
      },
      "outputs": [],
      "source": [
        "#Identifica las clases a evaluar\n",
        "clases = df_images['Scientific Name'].unique()\n",
        "clases"
      ]
    },
    {
      "cell_type": "code",
      "execution_count": null,
      "metadata": {
        "id": "GUKhZEGxpy2G"
      },
      "outputs": [],
      "source": [
        "#Creando las carpetas train test y val con subcarpetas para almacenar cada clase de ave\n",
        "for clase in clases:\n",
        "  if not (os.path.exists(\"./train/\"+clase)):\n",
        "    os.makedirs(\"./train/\"+clase)\n",
        "\n",
        "  if not (os.path.exists(\"./test/\"+clase)):\n",
        "    os.makedirs(\"./test/\"+clase)\n",
        "\n",
        "  if not (os.path.exists(\"./val/\"+clase)):\n",
        "    os.makedirs(\"./val/\"+clase)\n",
        "    \n"
      ]
    },
    {
      "cell_type": "code",
      "execution_count": null,
      "metadata": {
        "id": "YRf07GYWAVjh"
      },
      "outputs": [],
      "source": [
        "#define los valores n_train n_test y n_val que determinaran el tamaño de entrenamiento prueba y validación\n",
        "for clase in clases:\n",
        "  df_clase = df_images[df_images['Scientific Name'] == clase]\n",
        "  n = len(df_clase)\n",
        "  n_train = int((n * 0.6) + 0.5)\n",
        "  n_val = int((n * 0.25) + 0.5)\n",
        "  n_test = n - n_train - n_val\n",
        "  #print(n, n_train, n_test, n_val)\n",
        "\n",
        "  for (i, im) in enumerate(df_clase['Image']):\n",
        "    if i < n_train:\n",
        "      if not os.path.exists(\"./train/\"+clase):\n",
        "        shutil.move(im,\"./train/\"+clase)\n",
        "    elif i < n_train +n_val:\n",
        "      if not os.path.exists(\"./val/\"+clase):\n",
        "        shutil.move(im,\"./val/\"+clase)\n",
        "    else:\n",
        "      if not os.path.exists(\"./test/\"+clase):\n",
        "        shutil.move(im,\"./test/\"+clase)"
      ]
    },
    {
      "cell_type": "code",
      "execution_count": null,
      "metadata": {
        "id": "xABjdQ0UPrkV"
      },
      "outputs": [],
      "source": [
        "#convertir de tipo objeto a tipo string\n",
        "clase2 = []\n",
        "for clase in clases:\n",
        "  clase2.append(str(clase))\n",
        "\n",
        "clases = clase2"
      ]
    },
    {
      "cell_type": "code",
      "execution_count": null,
      "metadata": {
        "id": "UYviBi_SUXc2"
      },
      "outputs": [],
      "source": [
        "def show(batch, pred_labels=None):\n",
        "    plt.figure(figsize=(10,10))\n",
        "    for i in range(4):\n",
        "        plt.subplot(2,2,i+1)\n",
        "        plt.xticks([])\n",
        "        plt.yticks([])\n",
        "        plt.grid(False)\n",
        "        plt.imshow(batch[0][i], cmap=plt.cm.binary)\n",
        "        # The CIFAR labels happen to be arrays, \n",
        "        # which is why you need the extra index\n",
        "        lbl = clases[int(batch[1][i])]\n",
        "        if pred_labels is not None:\n",
        "            lbl += \"/ Pred:\" + clases[int(pred_labels[i])]\n",
        "        plt.xlabel(lbl)\n",
        "    plt.show()\n",
        "\n"
      ]
    },
    {
      "cell_type": "code",
      "execution_count": null,
      "metadata": {
        "id": "gjUKaX7AfBmx"
      },
      "outputs": [],
      "source": [
        "#Importando libreria keras\n",
        "from tensorflow.keras import layers\n",
        "import tensorflow.keras as keras"
      ]
    },
    {
      "cell_type": "markdown",
      "metadata": {
        "id": "kV5jHxJFtXbG"
      },
      "source": [
        "### Realizando Red convolucional"
      ]
    },
    {
      "cell_type": "code",
      "execution_count": null,
      "metadata": {
        "colab": {
          "base_uri": "https://localhost:8080/"
        },
        "id": "I_JhNCUhFkhE",
        "outputId": "7f6aa516-fc58-4d15-864f-f6df3284107e"
      },
      "outputs": [],
      "source": [
        "model = keras.models.Sequential()\n",
        "model.add(layers.Conv2D(\n",
        "    32, \n",
        "    (3,3), \n",
        "    strides=(1,1), \n",
        "    padding=\"valid\",\n",
        "    activation='relu',\n",
        "    input_shape = (256,256,3)\n",
        "    ))\n",
        "model.add(layers.MaxPool2D(2,2)),\n",
        "model.add(layers.Conv2D(\n",
        "    64, \n",
        "    (3,3), \n",
        "    activation='relu',\n",
        "    )),\n",
        "model.add(layers.MaxPool2D(2,2)),\n",
        "model.add(layers.Flatten())\n",
        "model.add(layers.Dense(64, activation='relu'))\n",
        "model.add(layers.Dense(num_clases))\n",
        "print(model.summary())"
      ]
    },
    {
      "cell_type": "code",
      "execution_count": null,
      "metadata": {
        "colab": {
          "base_uri": "https://localhost:8080/"
        },
        "id": "5cQSrlurEwht",
        "outputId": "45525657-9b35-4b5c-b063-e66719dca5ba"
      },
      "outputs": [],
      "source": [
        "#Creando los batches\n",
        "from tensorflow import keras\n",
        "\n",
        "train_gen = keras.preprocessing.image.ImageDataGenerator(\n",
        "    rescale=1./255,\n",
        "    rotation_range=10,\n",
        "    horizontal_flip=True,\n",
        "    zoom_range=0.2)\n",
        "val_gen = keras.preprocessing.image.ImageDataGenerator(rescale=1./255)\n",
        "test_gen = keras.preprocessing.image.ImageDataGenerator(rescale=1./255)\n",
        "\n",
        "train_batches = train_gen.flow_from_directory(\n",
        "    './train',\n",
        "    target_size=(256,256),\n",
        "    class_mode='sparse',\n",
        "    batch_size=32,\n",
        "    color_mode='rgb',\n",
        "    classes=clases\n",
        ")\n",
        "\n",
        "val_batches = val_gen.flow_from_directory(\n",
        "    './val',\n",
        "    target_size=(256,256),\n",
        "    class_mode='sparse',\n",
        "    batch_size=32,\n",
        "    color_mode='rgb',\n",
        "    classes=clases\n",
        ")\n",
        "\n",
        "test_batches = test_gen.flow_from_directory(\n",
        "    './test',\n",
        "    target_size=(256,256),\n",
        "    class_mode='sparse',\n",
        "    batch_size=32,\n",
        "    color_mode='rgb',\n",
        "    classes=clases\n",
        ")"
      ]
    },
    {
      "cell_type": "code",
      "execution_count": null,
      "metadata": {
        "colab": {
          "base_uri": "https://localhost:8080/",
          "height": 589
        },
        "id": "534fejNV6aC-",
        "outputId": "fec1a8ec-deef-4058-912f-5c9323bab903"
      },
      "outputs": [],
      "source": [
        "show(train_batches[0])"
      ]
    },
    {
      "cell_type": "code",
      "execution_count": null,
      "metadata": {
        "colab": {
          "base_uri": "https://localhost:8080/"
        },
        "id": "ZkGW-Hx1A7ma",
        "outputId": "8528723f-c21b-460d-ed8c-cedcdd09b1c3"
      },
      "outputs": [],
      "source": [
        "#genera indice de categoría mas probable\n",
        "loss = keras.losses.SparseCategoricalCrossentropy(from_logits=True)\n",
        "optim = keras.optimizers.Adam(lr=0.001)\n",
        "metrics = [\"sparse_categorical_accuracy\"]\n",
        "model.compile(optimizer=optim, loss=loss, metrics=metrics)"
      ]
    },
    {
      "cell_type": "code",
      "execution_count": null,
      "metadata": {
        "colab": {
          "base_uri": "https://localhost:8080/"
        },
        "id": "iJxzcJ5CBhN4",
        "outputId": "23ca71c9-986d-4649-fbf0-3c5bd359c96a"
      },
      "outputs": [],
      "source": [
        "\n",
        "epochs = 10\n",
        "#monitor de perdida\n",
        "early_stopping = keras.callbacks.EarlyStopping(\n",
        "    monitor=\"val_loss\",\n",
        "    patience=5,\n",
        "    verbose=2\n",
        ")\n",
        "\n",
        "\n",
        "history = model.fit(train_batches,\n",
        "                    validation_data=val_batches,\n",
        "                    epochs=epochs,\n",
        "                    callbacks=[early_stopping])"
      ]
    },
    {
      "cell_type": "code",
      "execution_count": null,
      "metadata": {
        "colab": {
          "base_uri": "https://localhost:8080/",
          "height": 362
        },
        "id": "VWntNElhZrgM",
        "outputId": "09185c9e-2519-408b-d048-65c5747e631e"
      },
      "outputs": [],
      "source": [
        "# Genera grafico de perdida y precisión categorica\n",
        "\n",
        "plt.figure(figsize=(16, 6))\n",
        "plt.subplot(1, 2, 1)\n",
        "plt.plot(history.history['loss'], label='train loss')\n",
        "plt.plot(history.history['val_loss'], label='valid loss')\n",
        "plt.grid()\n",
        "plt.legend(fontsize=15)\n",
        "\n",
        "plt.subplot(1, 2, 2)\n",
        "plt.plot(history.history['sparse_categorical_accuracy'], label='train acc')\n",
        "plt.plot(history.history['val_sparse_categorical_accuracy'], label='valid acc')\n",
        "plt.grid()\n",
        "plt.legend(fontsize=15);"
      ]
    },
    {
      "cell_type": "code",
      "execution_count": null,
      "metadata": {
        "colab": {
          "base_uri": "https://localhost:8080/"
        },
        "id": "jwNY1E7kaWdE",
        "outputId": "218484f2-13c9-4bf4-b3e4-a76020df308c"
      },
      "outputs": [],
      "source": [
        "# se evalúa la data de prueba\n",
        "model.evaluate(test_batches, verbose=2)"
      ]
    },
    {
      "cell_type": "code",
      "execution_count": null,
      "metadata": {
        "colab": {
          "base_uri": "https://localhost:8080/"
        },
        "id": "W4DZjaQBaW4E",
        "outputId": "903d7a5b-fa09-43ac-e0a2-90f13ea635c0"
      },
      "outputs": [],
      "source": [
        "#Realizando predicciones (opcional)\n",
        "predictions = model.predict(test_batches)\n",
        "predictions = tf.nn.softmax(predictions)\n",
        "labels = np.argmax(predictions, axis=1)\n",
        "\n",
        "print(test_batches[0][1])\n",
        "print(labels[0:19])"
      ]
    },
    {
      "cell_type": "markdown",
      "metadata": {
        "id": "mL0WkqtROKex"
      },
      "source": [
        "# TRANSFER LEARNING"
      ]
    },
    {
      "cell_type": "markdown",
      "metadata": {
        "id": "B2HqqZGJqy11"
      },
      "source": [
        "#### VGG16"
      ]
    },
    {
      "cell_type": "code",
      "execution_count": null,
      "metadata": {
        "colab": {
          "base_uri": "https://localhost:8080/"
        },
        "id": "zK8TqkHLOO4p",
        "outputId": "fecb7b99-72dc-4ed4-8a23-41ba5e0890b7"
      },
      "outputs": [],
      "source": [
        "#Extrañendo el model vgg16 de keras\n",
        "vgg_model = tf.keras.applications.vgg16.VGG16()\n",
        "print(type(vgg_model))\n",
        "vgg_model.summary()"
      ]
    },
    {
      "cell_type": "code",
      "execution_count": null,
      "metadata": {
        "colab": {
          "base_uri": "https://localhost:8080/"
        },
        "id": "P6eRfXbpPTFK",
        "outputId": "2ab0bd77-45c4-470b-9b82-ec1b7453f740"
      },
      "outputs": [],
      "source": [
        "# Crea un modelo \"Secuencial\" y agregua una primera capa.\n",
        "model = keras.models.Sequential()\n",
        "for layer in vgg_model.layers[0:-1]:\n",
        "    model.add(layer)\n",
        "\n",
        "for layer in model.layers:\n",
        "    layer.trainable = False\n",
        "    \n",
        "#Información general del modelo\n",
        "model.summary()"
      ]
    },
    {
      "cell_type": "code",
      "execution_count": null,
      "metadata": {
        "id": "DyUj6yh3Px5q"
      },
      "outputs": [],
      "source": [
        "#Agrega una capa Densa al modelo.\n",
        "model.add(layers.Dense(num_clases))"
      ]
    },
    {
      "cell_type": "code",
      "execution_count": null,
      "metadata": {
        "id": "aQgV3-ngP42S"
      },
      "outputs": [],
      "source": [
        "#Se configura el modelo\n",
        "model.compile(optimizer=optim, loss=loss, metrics=metrics)"
      ]
    },
    {
      "cell_type": "code",
      "execution_count": null,
      "metadata": {
        "colab": {
          "base_uri": "https://localhost:8080/"
        },
        "id": "oTUaIliuQ_bC",
        "outputId": "989218e8-37cb-4a8d-efb4-173ac3ca467c"
      },
      "outputs": [],
      "source": [
        "# Se utiliza el preprocesamiento de la red ya entrenada al igual que su target_size\n",
        "\n",
        "preprocess_input = tf.keras.applications.vgg16.preprocess_input\n",
        "\n",
        "train_gen = keras.preprocessing.image.ImageDataGenerator(preprocessing_function=preprocess_input)\n",
        "val_gen = keras.preprocessing.image.ImageDataGenerator(preprocessing_function=preprocess_input)\n",
        "test_gen = keras.preprocessing.image.ImageDataGenerator(preprocessing_function=preprocess_input)\n",
        "\n",
        "train_batches = train_gen.flow_from_directory(\n",
        "    './train',\n",
        "    target_size=(224,224),\n",
        "    class_mode='sparse',\n",
        "    batch_size=32,\n",
        "    color_mode='rgb',\n",
        "    classes=clases\n",
        ")\n",
        "\n",
        "val_batches = val_gen.flow_from_directory(\n",
        "    './val',\n",
        "    target_size=(224,224),\n",
        "    class_mode='sparse',\n",
        "    batch_size=32,\n",
        "    color_mode='rgb',\n",
        "    classes=clases\n",
        ")\n",
        "\n",
        "test_batches = test_gen.flow_from_directory(\n",
        "    './test',\n",
        "    target_size=(224,224),\n",
        "    class_mode='sparse',\n",
        "    batch_size=32,\n",
        "    color_mode='rgb',\n",
        "    classes=clases\n",
        ")"
      ]
    },
    {
      "cell_type": "code",
      "execution_count": null,
      "metadata": {
        "colab": {
          "base_uri": "https://localhost:8080/"
        },
        "id": "YF5PwperRqlz",
        "outputId": "4bc7255a-fb9b-460b-dcb1-edb10295fc39"
      },
      "outputs": [],
      "source": [
        "\n",
        "epochs = 10\n",
        "\n",
        "early_stopping = keras.callbacks.EarlyStopping(\n",
        "    monitor=\"val_loss\",\n",
        "    patience=5,\n",
        "    verbose=2\n",
        ")\n",
        "\n",
        "\n",
        "history = model.fit(train_batches,\n",
        "                    validation_data=val_batches,\n",
        "                    epochs=epochs,\n",
        "                    callbacks=[early_stopping])"
      ]
    },
    {
      "cell_type": "code",
      "execution_count": null,
      "metadata": {
        "colab": {
          "base_uri": "https://localhost:8080/",
          "height": 362
        },
        "id": "JStfmXz28rjC",
        "outputId": "55bb8996-0926-4c0d-8e3a-aec94be5a123"
      },
      "outputs": [],
      "source": [
        "#Genera grafico de perdida y precisión categorica\n",
        "\n",
        "plt.figure(figsize=(16, 6))\n",
        "plt.subplot(1, 2, 1)\n",
        "plt.plot(history.history['loss'], label='train loss')\n",
        "plt.plot(history.history['val_loss'], label='valid loss')\n",
        "plt.grid()\n",
        "plt.legend(fontsize=15)\n",
        "\n",
        "plt.subplot(1, 2, 2)\n",
        "plt.plot(history.history['sparse_categorical_accuracy'], label='train acc')\n",
        "plt.plot(history.history['val_sparse_categorical_accuracy'], label='valid acc')\n",
        "plt.grid()\n",
        "plt.legend(fontsize=15);"
      ]
    },
    {
      "cell_type": "code",
      "execution_count": null,
      "metadata": {
        "colab": {
          "base_uri": "https://localhost:8080/"
        },
        "id": "lr42BZLZ9MDn",
        "outputId": "1ec48af7-0f6a-42b3-95b3-284eb869c7e7"
      },
      "outputs": [],
      "source": [
        "# evaluate on test data (Opcional)\n",
        "model.evaluate(test_batches, verbose=2)"
      ]
    }
  ],
  "metadata": {
    "colab": {
      "collapsed_sections": [
        "dIQx50l46-Vm"
      ],
      "name": "Proyecto eBird Convolucional y Transfer.ipynb",
      "provenance": []
    },
    "kernelspec": {
      "display_name": "Python 3",
      "name": "python3"
    },
    "language_info": {
      "name": "python"
    }
  },
  "nbformat": 4,
  "nbformat_minor": 0
}
